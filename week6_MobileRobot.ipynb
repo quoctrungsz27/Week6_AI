{
  "nbformat": 4,
  "nbformat_minor": 0,
  "metadata": {
    "colab": {
      "provenance": [],
      "authorship_tag": "ABX9TyMsCVLngu+aa6PhNAj/Xxjq",
      "include_colab_link": true
    },
    "kernelspec": {
      "name": "python3",
      "display_name": "Python 3"
    },
    "language_info": {
      "name": "python"
    }
  },
  "cells": [
    {
      "cell_type": "markdown",
      "metadata": {
        "id": "view-in-github",
        "colab_type": "text"
      },
      "source": [
        "<a href=\"https://colab.research.google.com/github/quoctrungsz27/Week6_AI/blob/main/week6_MobileRobot.ipynb\" target=\"_parent\"><img src=\"https://colab.research.google.com/assets/colab-badge.svg\" alt=\"Open In Colab\"/></a>"
      ]
    },
    {
      "cell_type": "code",
      "execution_count": null,
      "metadata": {
        "id": "8Uh7y4mhMRb2"
      },
      "outputs": [],
      "source": [
        "!pip install scikit-fuzzy   # thư viện fuzzy logic  ( logic mờ )\n"
      ]
    },
    {
      "cell_type": "code",
      "source": [
        "import numpy as np \n",
        "import skfuzzy as fuzz \n",
        "from skfuzzy import control as ctrl \n",
        "import matplotlib.pyplot as plt \n",
        "from mpl_toolkits.mplot3d import Axes3D\n",
        "\n",
        "universe = np.linspace(18, 30,61)\n",
        "universe1 = np.linspace(-5, 60, 61)\n",
        "universe2 = np.linspace(0, 255, 61)\n",
        "\n",
        "setpoint = ctrl.Antecedent(universe, 'setpoint')\n",
        "sensor = ctrl.Antecedent(universe1, 'sensor')\n",
        "pwm = ctrl.Consequent(universe2, 'pwm')\n",
        "\n",
        "#names = [1, 2, 3, 4, 5]\n",
        "names = ['VL','L','N','H','VH']\n",
        "setpoint.automf(names = names)\n",
        "sensor.automf(names = names)\n",
        "pwm.automf(names = names) \n",
        "\n",
        "rule0 = ctrl.Rule(antecedent = ((setpoint['VL'] & sensor['VL'])|(setpoint['L'] & sensor['VL'])|(setpoint['VL'] & sensor['L'])),\n",
        "                  consequent = pwm['VH'],label = 'ruleVL')\n",
        "rule1 = ctrl.Rule(antecedent = ((setpoint['N'] & sensor['VL'])|(setpoint['L'] & sensor['L'])|(setpoint['VL'] & sensor['N'])),\n",
        "                  consequent = pwm['H'],label = 'ruleL')\n",
        "rule2 = ctrl.Rule(antecedent = ((setpoint['N'] & sensor['VL'])|(setpoint['N'] & sensor['L'])|(setpoint['L'] & sensor['N'])|(setpoint['VL'] & sensor['H'])|(setpoint['VH'] & sensor['VL'])|(setpoint['H'] & sensor['L'])|(setpoint['N'] & sensor['N'])|(setpoint['L'] & sensor['H'])|(setpoint['VL'] & sensor['VH'])),\n",
        "                  consequent = pwm['N'],label = 'ruleN')\n",
        "rule3 = ctrl.Rule(antecedent = ((setpoint['VH'] & sensor['L'])|(setpoint['H'] & sensor['N'])|(setpoint['N'] & sensor['H'])|(setpoint['L'] & sensor['VH'])|(setpoint['VH'] & sensor['N'])|(setpoint['H'] & sensor['H'])|(setpoint['N'] & sensor['VH'])),\n",
        "                  consequent = pwm['L'],label = 'ruleH')\n",
        "rule4 = ctrl.Rule(antecedent = ((setpoint['VH'] & sensor['H'])|(setpoint['H'] & sensor['VH'])|(setpoint['VH'] & sensor['VH'])),\n",
        "                  consequent = pwm['VL'],label = 'ruleVH')\n",
        "temp = ctrl.ControlSystem(rules =[rule0, rule1, rule2, rule3, rule4])\n",
        "sim = ctrl.ControlSystemSimulation(temp,flush_after_run =61*61+1)\n",
        "unsampled = np.linspace(18,30,61)\n",
        "x,y = np.meshgrid(unsampled,unsampled)\n",
        "z = np.zeros_like(x)\n",
        "\n",
        "for i in range(61):\n",
        "  for j in range(61): \n",
        "    sim.input['setpoint'] = x[i,j]\n",
        "    sim.input['sensor'] = y[i,j]\n",
        "    sim.compute() \n",
        "    z[i,j] = sim.output['pwm']\n",
        "\n",
        "#ve bieu do\n",
        "fig = plt.figure(figsize = (8,8))  # Hinh 8x8\n",
        "ax = fig.add_subplot(111,projection='3d')\n",
        "suf = ax.plot_surface(y,x,z,rstride = 1, cstride = 1, cmap = 'viridis', linewidth = 0.4, antialiased = True)\n",
        "#cset = ax.contourf(x,y,z,zdir = 'z', offset = 8, cmap = 'viridis', anpha = 0.5)\n",
        "#cset = ax.contourf(x,y,z,zdir = 'x', offset = 11, cmap = 'viridis', anpha = 0.5)\n",
        "#cset = ax.contourf(x,y,z,zdir = 'y', offset = 11, cmap = 'viridis', anpha = 0.5)\n",
        "ax.view_init(30,200)\n",
        "\n",
        "\n",
        "\n",
        "\n"
      ],
      "metadata": {
        "id": "7QcHLEm_Mdsr"
      },
      "execution_count": null,
      "outputs": []
    }
  ]
}